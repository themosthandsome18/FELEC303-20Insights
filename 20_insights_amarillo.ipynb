{
 "cells": [
  {
   "cell_type": "markdown",
   "id": "88f49d72-2f47-4a0c-b0f4-20c01bb701d9",
   "metadata": {},
   "source": [
    "<h2>1. Importing Necessary Libraries</h2>"
   ]
  },
  {
   "cell_type": "code",
   "execution_count": 1,
   "id": "9f8d56b7-de8c-4296-bcf7-c50ff1caa81a",
   "metadata": {},
   "outputs": [],
   "source": [
    "import numpy as np\n",
    "import pandas as pd\n",
    "import warnings\n",
    "warnings.filterwarnings('ignore')\n",
    "import matplotlib.pyplot as plt"
   ]
  },
  {
   "cell_type": "markdown",
   "id": "895cbfd0-5f93-4b33-afd4-a478777e2646",
   "metadata": {},
   "source": [
    "<h2>2. Coverting data set to data frame</h2>"
   ]
  },
  {
   "cell_type": "code",
   "execution_count": 2,
   "id": "f06468ff-854a-4576-946f-d5b34f719bae",
   "metadata": {},
   "outputs": [],
   "source": [
    "accident = pd.read_csv('datasets\\\\uk_road_accident.csv')"
   ]
  },
  {
   "cell_type": "markdown",
   "id": "cd848125-9268-46e4-9b64-2862b9dfccf2",
   "metadata": {},
   "source": [
    "<h2>3. Check Dataframe Information</h2>"
   ]
  },
  {
   "cell_type": "code",
   "execution_count": 3,
   "id": "b03aa446-be3c-4749-bf7c-3a19fceb6e76",
   "metadata": {},
   "outputs": [
    {
     "data": {
      "text/html": [
       "<div>\n",
       "<style scoped>\n",
       "    .dataframe tbody tr th:only-of-type {\n",
       "        vertical-align: middle;\n",
       "    }\n",
       "\n",
       "    .dataframe tbody tr th {\n",
       "        vertical-align: top;\n",
       "    }\n",
       "\n",
       "    .dataframe thead th {\n",
       "        text-align: right;\n",
       "    }\n",
       "</style>\n",
       "<table border=\"1\" class=\"dataframe\">\n",
       "  <thead>\n",
       "    <tr style=\"text-align: right;\">\n",
       "      <th></th>\n",
       "      <th>Index</th>\n",
       "      <th>Accident_Severity</th>\n",
       "      <th>Accident Date</th>\n",
       "      <th>Latitude</th>\n",
       "      <th>Light_Conditions</th>\n",
       "      <th>District Area</th>\n",
       "      <th>Longitude</th>\n",
       "      <th>Number_of_Casualties</th>\n",
       "      <th>Number_of_Vehicles</th>\n",
       "      <th>Road_Surface_Conditions</th>\n",
       "      <th>Road_Type</th>\n",
       "      <th>Urban_or_Rural_Area</th>\n",
       "      <th>Weather_Conditions</th>\n",
       "      <th>Vehicle_Type</th>\n",
       "    </tr>\n",
       "  </thead>\n",
       "  <tbody>\n",
       "    <tr>\n",
       "      <th>0</th>\n",
       "      <td>200701BS64157</td>\n",
       "      <td>Serious</td>\n",
       "      <td>5/6/2019</td>\n",
       "      <td>51.506187</td>\n",
       "      <td>Darkness - lights lit</td>\n",
       "      <td>Kensington and Chelsea</td>\n",
       "      <td>-0.209082</td>\n",
       "      <td>1</td>\n",
       "      <td>2</td>\n",
       "      <td>Dry</td>\n",
       "      <td>Single carriageway</td>\n",
       "      <td>Urban</td>\n",
       "      <td>Fine no high winds</td>\n",
       "      <td>Car</td>\n",
       "    </tr>\n",
       "    <tr>\n",
       "      <th>1</th>\n",
       "      <td>200701BS65737</td>\n",
       "      <td>Serious</td>\n",
       "      <td>2/7/2019</td>\n",
       "      <td>51.495029</td>\n",
       "      <td>Daylight</td>\n",
       "      <td>Kensington and Chelsea</td>\n",
       "      <td>-0.173647</td>\n",
       "      <td>1</td>\n",
       "      <td>2</td>\n",
       "      <td>Wet or damp</td>\n",
       "      <td>Single carriageway</td>\n",
       "      <td>Urban</td>\n",
       "      <td>Raining no high winds</td>\n",
       "      <td>Car</td>\n",
       "    </tr>\n",
       "    <tr>\n",
       "      <th>2</th>\n",
       "      <td>200701BS66127</td>\n",
       "      <td>Serious</td>\n",
       "      <td>26-08-2019</td>\n",
       "      <td>51.517715</td>\n",
       "      <td>Darkness - lighting unknown</td>\n",
       "      <td>Kensington and Chelsea</td>\n",
       "      <td>-0.210215</td>\n",
       "      <td>1</td>\n",
       "      <td>3</td>\n",
       "      <td>Dry</td>\n",
       "      <td>NaN</td>\n",
       "      <td>Urban</td>\n",
       "      <td>NaN</td>\n",
       "      <td>Taxi/Private hire car</td>\n",
       "    </tr>\n",
       "    <tr>\n",
       "      <th>3</th>\n",
       "      <td>200701BS66128</td>\n",
       "      <td>Serious</td>\n",
       "      <td>16-08-2019</td>\n",
       "      <td>51.495478</td>\n",
       "      <td>Daylight</td>\n",
       "      <td>Kensington and Chelsea</td>\n",
       "      <td>-0.202731</td>\n",
       "      <td>1</td>\n",
       "      <td>4</td>\n",
       "      <td>Dry</td>\n",
       "      <td>Single carriageway</td>\n",
       "      <td>Urban</td>\n",
       "      <td>Fine no high winds</td>\n",
       "      <td>Bus or coach (17 or more pass seats)</td>\n",
       "    </tr>\n",
       "    <tr>\n",
       "      <th>4</th>\n",
       "      <td>200701BS66837</td>\n",
       "      <td>Slight</td>\n",
       "      <td>3/9/2019</td>\n",
       "      <td>51.488576</td>\n",
       "      <td>Darkness - lights lit</td>\n",
       "      <td>Kensington and Chelsea</td>\n",
       "      <td>-0.192487</td>\n",
       "      <td>1</td>\n",
       "      <td>2</td>\n",
       "      <td>Dry</td>\n",
       "      <td>NaN</td>\n",
       "      <td>Urban</td>\n",
       "      <td>NaN</td>\n",
       "      <td>Other vehicle</td>\n",
       "    </tr>\n",
       "    <tr>\n",
       "      <th>...</th>\n",
       "      <td>...</td>\n",
       "      <td>...</td>\n",
       "      <td>...</td>\n",
       "      <td>...</td>\n",
       "      <td>...</td>\n",
       "      <td>...</td>\n",
       "      <td>...</td>\n",
       "      <td>...</td>\n",
       "      <td>...</td>\n",
       "      <td>...</td>\n",
       "      <td>...</td>\n",
       "      <td>...</td>\n",
       "      <td>...</td>\n",
       "      <td>...</td>\n",
       "    </tr>\n",
       "    <tr>\n",
       "      <th>660674</th>\n",
       "      <td>201091NM01760</td>\n",
       "      <td>Slight</td>\n",
       "      <td>18-02-2022</td>\n",
       "      <td>57.374005</td>\n",
       "      <td>Daylight</td>\n",
       "      <td>Highland</td>\n",
       "      <td>-3.467828</td>\n",
       "      <td>2</td>\n",
       "      <td>1</td>\n",
       "      <td>Dry</td>\n",
       "      <td>Single carriageway</td>\n",
       "      <td>Rural</td>\n",
       "      <td>Fine no high winds</td>\n",
       "      <td>Car</td>\n",
       "    </tr>\n",
       "    <tr>\n",
       "      <th>660675</th>\n",
       "      <td>201091NM01881</td>\n",
       "      <td>Slight</td>\n",
       "      <td>21-02-2022</td>\n",
       "      <td>57.232273</td>\n",
       "      <td>Darkness - no lighting</td>\n",
       "      <td>Highland</td>\n",
       "      <td>-3.809281</td>\n",
       "      <td>1</td>\n",
       "      <td>1</td>\n",
       "      <td>Frost or ice</td>\n",
       "      <td>Single carriageway</td>\n",
       "      <td>Rural</td>\n",
       "      <td>Fine no high winds</td>\n",
       "      <td>Car</td>\n",
       "    </tr>\n",
       "    <tr>\n",
       "      <th>660676</th>\n",
       "      <td>201091NM01935</td>\n",
       "      <td>Slight</td>\n",
       "      <td>23-02-2022</td>\n",
       "      <td>57.585044</td>\n",
       "      <td>Daylight</td>\n",
       "      <td>Highland</td>\n",
       "      <td>-3.862727</td>\n",
       "      <td>1</td>\n",
       "      <td>3</td>\n",
       "      <td>Frost or ice</td>\n",
       "      <td>Single carriageway</td>\n",
       "      <td>Rural</td>\n",
       "      <td>Fine no high winds</td>\n",
       "      <td>Car</td>\n",
       "    </tr>\n",
       "    <tr>\n",
       "      <th>660677</th>\n",
       "      <td>201091NM01964</td>\n",
       "      <td>Serious</td>\n",
       "      <td>23-02-2022</td>\n",
       "      <td>57.214898</td>\n",
       "      <td>Darkness - no lighting</td>\n",
       "      <td>Highland</td>\n",
       "      <td>-3.823997</td>\n",
       "      <td>1</td>\n",
       "      <td>2</td>\n",
       "      <td>Wet or damp</td>\n",
       "      <td>Single carriageway</td>\n",
       "      <td>Rural</td>\n",
       "      <td>Fine no high winds</td>\n",
       "      <td>Motorcycle over 500cc</td>\n",
       "    </tr>\n",
       "    <tr>\n",
       "      <th>660678</th>\n",
       "      <td>201091NM02142</td>\n",
       "      <td>Serious</td>\n",
       "      <td>28-02-2022</td>\n",
       "      <td>57.575210</td>\n",
       "      <td>Daylight</td>\n",
       "      <td>Highland</td>\n",
       "      <td>-3.895673</td>\n",
       "      <td>1</td>\n",
       "      <td>1</td>\n",
       "      <td>Wet or damp</td>\n",
       "      <td>Dual carriageway</td>\n",
       "      <td>Rural</td>\n",
       "      <td>Snowing no high winds</td>\n",
       "      <td>Car</td>\n",
       "    </tr>\n",
       "  </tbody>\n",
       "</table>\n",
       "<p>660679 rows × 14 columns</p>\n",
       "</div>"
      ],
      "text/plain": [
       "                Index Accident_Severity Accident Date   Latitude  \\\n",
       "0       200701BS64157           Serious      5/6/2019  51.506187   \n",
       "1       200701BS65737           Serious      2/7/2019  51.495029   \n",
       "2       200701BS66127           Serious    26-08-2019  51.517715   \n",
       "3       200701BS66128           Serious    16-08-2019  51.495478   \n",
       "4       200701BS66837            Slight      3/9/2019  51.488576   \n",
       "...               ...               ...           ...        ...   \n",
       "660674  201091NM01760            Slight    18-02-2022  57.374005   \n",
       "660675  201091NM01881            Slight    21-02-2022  57.232273   \n",
       "660676  201091NM01935            Slight    23-02-2022  57.585044   \n",
       "660677  201091NM01964           Serious    23-02-2022  57.214898   \n",
       "660678  201091NM02142           Serious    28-02-2022  57.575210   \n",
       "\n",
       "                   Light_Conditions           District Area  Longitude  \\\n",
       "0             Darkness - lights lit  Kensington and Chelsea  -0.209082   \n",
       "1                          Daylight  Kensington and Chelsea  -0.173647   \n",
       "2       Darkness - lighting unknown  Kensington and Chelsea  -0.210215   \n",
       "3                          Daylight  Kensington and Chelsea  -0.202731   \n",
       "4             Darkness - lights lit  Kensington and Chelsea  -0.192487   \n",
       "...                             ...                     ...        ...   \n",
       "660674                     Daylight                Highland  -3.467828   \n",
       "660675       Darkness - no lighting                Highland  -3.809281   \n",
       "660676                     Daylight                Highland  -3.862727   \n",
       "660677       Darkness - no lighting                Highland  -3.823997   \n",
       "660678                     Daylight                Highland  -3.895673   \n",
       "\n",
       "        Number_of_Casualties  Number_of_Vehicles Road_Surface_Conditions  \\\n",
       "0                          1                   2                     Dry   \n",
       "1                          1                   2             Wet or damp   \n",
       "2                          1                   3                     Dry   \n",
       "3                          1                   4                     Dry   \n",
       "4                          1                   2                     Dry   \n",
       "...                      ...                 ...                     ...   \n",
       "660674                     2                   1                     Dry   \n",
       "660675                     1                   1            Frost or ice   \n",
       "660676                     1                   3            Frost or ice   \n",
       "660677                     1                   2             Wet or damp   \n",
       "660678                     1                   1             Wet or damp   \n",
       "\n",
       "                 Road_Type Urban_or_Rural_Area     Weather_Conditions  \\\n",
       "0       Single carriageway               Urban     Fine no high winds   \n",
       "1       Single carriageway               Urban  Raining no high winds   \n",
       "2                      NaN               Urban                    NaN   \n",
       "3       Single carriageway               Urban     Fine no high winds   \n",
       "4                      NaN               Urban                    NaN   \n",
       "...                    ...                 ...                    ...   \n",
       "660674  Single carriageway               Rural     Fine no high winds   \n",
       "660675  Single carriageway               Rural     Fine no high winds   \n",
       "660676  Single carriageway               Rural     Fine no high winds   \n",
       "660677  Single carriageway               Rural     Fine no high winds   \n",
       "660678    Dual carriageway               Rural  Snowing no high winds   \n",
       "\n",
       "                                Vehicle_Type  \n",
       "0                                        Car  \n",
       "1                                        Car  \n",
       "2                      Taxi/Private hire car  \n",
       "3       Bus or coach (17 or more pass seats)  \n",
       "4                              Other vehicle  \n",
       "...                                      ...  \n",
       "660674                                   Car  \n",
       "660675                                   Car  \n",
       "660676                                   Car  \n",
       "660677                 Motorcycle over 500cc  \n",
       "660678                                   Car  \n",
       "\n",
       "[660679 rows x 14 columns]"
      ]
     },
     "execution_count": 3,
     "metadata": {},
     "output_type": "execute_result"
    }
   ],
   "source": [
    "accident"
   ]
  },
  {
   "cell_type": "markdown",
   "id": "98218eb1-fa2e-46c8-9ff9-e6da36c0ffc8",
   "metadata": {},
   "source": [
    "<h2>4. Check Discriptive Statistics</h2>"
   ]
  },
  {
   "cell_type": "code",
   "execution_count": 4,
   "id": "2c1539ab-e249-429a-ab38-898f99fc1c22",
   "metadata": {},
   "outputs": [
    {
     "data": {
      "text/html": [
       "<div>\n",
       "<style scoped>\n",
       "    .dataframe tbody tr th:only-of-type {\n",
       "        vertical-align: middle;\n",
       "    }\n",
       "\n",
       "    .dataframe tbody tr th {\n",
       "        vertical-align: top;\n",
       "    }\n",
       "\n",
       "    .dataframe thead th {\n",
       "        text-align: right;\n",
       "    }\n",
       "</style>\n",
       "<table border=\"1\" class=\"dataframe\">\n",
       "  <thead>\n",
       "    <tr style=\"text-align: right;\">\n",
       "      <th></th>\n",
       "      <th>Latitude</th>\n",
       "      <th>Longitude</th>\n",
       "      <th>Number_of_Casualties</th>\n",
       "      <th>Number_of_Vehicles</th>\n",
       "    </tr>\n",
       "  </thead>\n",
       "  <tbody>\n",
       "    <tr>\n",
       "      <th>count</th>\n",
       "      <td>660654.000000</td>\n",
       "      <td>660653.000000</td>\n",
       "      <td>660679.000000</td>\n",
       "      <td>660679.000000</td>\n",
       "    </tr>\n",
       "    <tr>\n",
       "      <th>mean</th>\n",
       "      <td>52.553866</td>\n",
       "      <td>-1.431210</td>\n",
       "      <td>1.357040</td>\n",
       "      <td>1.831255</td>\n",
       "    </tr>\n",
       "    <tr>\n",
       "      <th>std</th>\n",
       "      <td>1.406922</td>\n",
       "      <td>1.383330</td>\n",
       "      <td>0.824847</td>\n",
       "      <td>0.715269</td>\n",
       "    </tr>\n",
       "    <tr>\n",
       "      <th>min</th>\n",
       "      <td>49.914430</td>\n",
       "      <td>-7.516225</td>\n",
       "      <td>1.000000</td>\n",
       "      <td>1.000000</td>\n",
       "    </tr>\n",
       "    <tr>\n",
       "      <th>25%</th>\n",
       "      <td>51.490690</td>\n",
       "      <td>-2.332291</td>\n",
       "      <td>1.000000</td>\n",
       "      <td>1.000000</td>\n",
       "    </tr>\n",
       "    <tr>\n",
       "      <th>50%</th>\n",
       "      <td>52.315641</td>\n",
       "      <td>-1.411667</td>\n",
       "      <td>1.000000</td>\n",
       "      <td>2.000000</td>\n",
       "    </tr>\n",
       "    <tr>\n",
       "      <th>75%</th>\n",
       "      <td>53.453452</td>\n",
       "      <td>-0.232869</td>\n",
       "      <td>1.000000</td>\n",
       "      <td>2.000000</td>\n",
       "    </tr>\n",
       "    <tr>\n",
       "      <th>max</th>\n",
       "      <td>60.757544</td>\n",
       "      <td>1.762010</td>\n",
       "      <td>68.000000</td>\n",
       "      <td>32.000000</td>\n",
       "    </tr>\n",
       "  </tbody>\n",
       "</table>\n",
       "</div>"
      ],
      "text/plain": [
       "            Latitude      Longitude  Number_of_Casualties  Number_of_Vehicles\n",
       "count  660654.000000  660653.000000         660679.000000       660679.000000\n",
       "mean       52.553866      -1.431210              1.357040            1.831255\n",
       "std         1.406922       1.383330              0.824847            0.715269\n",
       "min        49.914430      -7.516225              1.000000            1.000000\n",
       "25%        51.490690      -2.332291              1.000000            1.000000\n",
       "50%        52.315641      -1.411667              1.000000            2.000000\n",
       "75%        53.453452      -0.232869              1.000000            2.000000\n",
       "max        60.757544       1.762010             68.000000           32.000000"
      ]
     },
     "execution_count": 4,
     "metadata": {},
     "output_type": "execute_result"
    }
   ],
   "source": [
    "accident.describe()"
   ]
  },
  {
   "cell_type": "code",
   "execution_count": 5,
   "id": "39c2f649-70e3-4372-b189-fc65b0754640",
   "metadata": {},
   "outputs": [
    {
     "data": {
      "text/html": [
       "<div>\n",
       "<style scoped>\n",
       "    .dataframe tbody tr th:only-of-type {\n",
       "        vertical-align: middle;\n",
       "    }\n",
       "\n",
       "    .dataframe tbody tr th {\n",
       "        vertical-align: top;\n",
       "    }\n",
       "\n",
       "    .dataframe thead th {\n",
       "        text-align: right;\n",
       "    }\n",
       "</style>\n",
       "<table border=\"1\" class=\"dataframe\">\n",
       "  <thead>\n",
       "    <tr style=\"text-align: right;\">\n",
       "      <th></th>\n",
       "      <th>count</th>\n",
       "      <th>mean</th>\n",
       "      <th>std</th>\n",
       "      <th>min</th>\n",
       "      <th>25%</th>\n",
       "      <th>50%</th>\n",
       "      <th>75%</th>\n",
       "      <th>max</th>\n",
       "    </tr>\n",
       "  </thead>\n",
       "  <tbody>\n",
       "    <tr>\n",
       "      <th>Latitude</th>\n",
       "      <td>660654.0</td>\n",
       "      <td>52.553866</td>\n",
       "      <td>1.406922</td>\n",
       "      <td>49.914430</td>\n",
       "      <td>51.490690</td>\n",
       "      <td>52.315641</td>\n",
       "      <td>53.453452</td>\n",
       "      <td>60.757544</td>\n",
       "    </tr>\n",
       "    <tr>\n",
       "      <th>Longitude</th>\n",
       "      <td>660653.0</td>\n",
       "      <td>-1.431210</td>\n",
       "      <td>1.383330</td>\n",
       "      <td>-7.516225</td>\n",
       "      <td>-2.332291</td>\n",
       "      <td>-1.411667</td>\n",
       "      <td>-0.232869</td>\n",
       "      <td>1.762010</td>\n",
       "    </tr>\n",
       "    <tr>\n",
       "      <th>Number_of_Casualties</th>\n",
       "      <td>660679.0</td>\n",
       "      <td>1.357040</td>\n",
       "      <td>0.824847</td>\n",
       "      <td>1.000000</td>\n",
       "      <td>1.000000</td>\n",
       "      <td>1.000000</td>\n",
       "      <td>1.000000</td>\n",
       "      <td>68.000000</td>\n",
       "    </tr>\n",
       "    <tr>\n",
       "      <th>Number_of_Vehicles</th>\n",
       "      <td>660679.0</td>\n",
       "      <td>1.831255</td>\n",
       "      <td>0.715269</td>\n",
       "      <td>1.000000</td>\n",
       "      <td>1.000000</td>\n",
       "      <td>2.000000</td>\n",
       "      <td>2.000000</td>\n",
       "      <td>32.000000</td>\n",
       "    </tr>\n",
       "  </tbody>\n",
       "</table>\n",
       "</div>"
      ],
      "text/plain": [
       "                         count       mean       std        min        25%  \\\n",
       "Latitude              660654.0  52.553866  1.406922  49.914430  51.490690   \n",
       "Longitude             660653.0  -1.431210  1.383330  -7.516225  -2.332291   \n",
       "Number_of_Casualties  660679.0   1.357040  0.824847   1.000000   1.000000   \n",
       "Number_of_Vehicles    660679.0   1.831255  0.715269   1.000000   1.000000   \n",
       "\n",
       "                            50%        75%        max  \n",
       "Latitude              52.315641  53.453452  60.757544  \n",
       "Longitude             -1.411667  -0.232869   1.762010  \n",
       "Number_of_Casualties   1.000000   1.000000  68.000000  \n",
       "Number_of_Vehicles     2.000000   2.000000  32.000000  "
      ]
     },
     "execution_count": 5,
     "metadata": {},
     "output_type": "execute_result"
    }
   ],
   "source": [
    "accident.describe().T"
   ]
  },
  {
   "cell_type": "markdown",
   "id": "e76b4cef-eb38-40fd-870c-8be0d589c2d0",
   "metadata": {},
   "source": [
    "<h2>5. Call Each Column Individually</h2>"
   ]
  },
  {
   "cell_type": "code",
   "execution_count": 6,
   "id": "7550a5f2-1203-412d-8f48-c3c2064ed9c3",
   "metadata": {},
   "outputs": [
    {
     "data": {
      "text/plain": [
       "0         200701BS64157\n",
       "1         200701BS65737\n",
       "2         200701BS66127\n",
       "3         200701BS66128\n",
       "4         200701BS66837\n",
       "              ...      \n",
       "660674    201091NM01760\n",
       "660675    201091NM01881\n",
       "660676    201091NM01935\n",
       "660677    201091NM01964\n",
       "660678    201091NM02142\n",
       "Name: Index, Length: 660679, dtype: object"
      ]
     },
     "execution_count": 6,
     "metadata": {},
     "output_type": "execute_result"
    }
   ],
   "source": [
    "accident['Index']"
   ]
  },
  {
   "cell_type": "code",
   "execution_count": 7,
   "id": "c26a6bbc-d87d-4a6f-8872-567df85df406",
   "metadata": {},
   "outputs": [
    {
     "data": {
      "text/plain": [
       "0         Serious\n",
       "1         Serious\n",
       "2         Serious\n",
       "3         Serious\n",
       "4          Slight\n",
       "           ...   \n",
       "660674     Slight\n",
       "660675     Slight\n",
       "660676     Slight\n",
       "660677    Serious\n",
       "660678    Serious\n",
       "Name: Accident_Severity, Length: 660679, dtype: object"
      ]
     },
     "execution_count": 7,
     "metadata": {},
     "output_type": "execute_result"
    }
   ],
   "source": [
    "accident['Accident_Severity']"
   ]
  },
  {
   "cell_type": "code",
   "execution_count": 8,
   "id": "5942054b-6dfc-4de9-93b8-47d7e685d460",
   "metadata": {},
   "outputs": [
    {
     "data": {
      "text/plain": [
       "0           5/6/2019\n",
       "1           2/7/2019\n",
       "2         26-08-2019\n",
       "3         16-08-2019\n",
       "4           3/9/2019\n",
       "             ...    \n",
       "660674    18-02-2022\n",
       "660675    21-02-2022\n",
       "660676    23-02-2022\n",
       "660677    23-02-2022\n",
       "660678    28-02-2022\n",
       "Name: Accident Date, Length: 660679, dtype: object"
      ]
     },
     "execution_count": 8,
     "metadata": {},
     "output_type": "execute_result"
    }
   ],
   "source": [
    "accident['Accident Date']"
   ]
  },
  {
   "cell_type": "code",
   "execution_count": 9,
   "id": "9dadcb8b-a4e6-481a-ab32-7c2e847eb922",
   "metadata": {},
   "outputs": [
    {
     "data": {
      "text/plain": [
       "0         51.506187\n",
       "1         51.495029\n",
       "2         51.517715\n",
       "3         51.495478\n",
       "4         51.488576\n",
       "            ...    \n",
       "660674    57.374005\n",
       "660675    57.232273\n",
       "660676    57.585044\n",
       "660677    57.214898\n",
       "660678    57.575210\n",
       "Name: Latitude, Length: 660679, dtype: float64"
      ]
     },
     "execution_count": 9,
     "metadata": {},
     "output_type": "execute_result"
    }
   ],
   "source": [
    "accident['Latitude']"
   ]
  },
  {
   "cell_type": "code",
   "execution_count": 10,
   "id": "843d3d72-053a-4e4d-aafa-6d4b2a08ec7e",
   "metadata": {},
   "outputs": [
    {
     "data": {
      "text/plain": [
       "0               Darkness - lights lit\n",
       "1                            Daylight\n",
       "2         Darkness - lighting unknown\n",
       "3                            Daylight\n",
       "4               Darkness - lights lit\n",
       "                     ...             \n",
       "660674                       Daylight\n",
       "660675         Darkness - no lighting\n",
       "660676                       Daylight\n",
       "660677         Darkness - no lighting\n",
       "660678                       Daylight\n",
       "Name: Light_Conditions, Length: 660679, dtype: object"
      ]
     },
     "execution_count": 10,
     "metadata": {},
     "output_type": "execute_result"
    }
   ],
   "source": [
    "accident['Light_Conditions']"
   ]
  },
  {
   "cell_type": "code",
   "execution_count": 11,
   "id": "20aa19a3-b04b-424d-9f29-17f053415ee0",
   "metadata": {},
   "outputs": [
    {
     "data": {
      "text/plain": [
       "0         Kensington and Chelsea\n",
       "1         Kensington and Chelsea\n",
       "2         Kensington and Chelsea\n",
       "3         Kensington and Chelsea\n",
       "4         Kensington and Chelsea\n",
       "                   ...          \n",
       "660674                  Highland\n",
       "660675                  Highland\n",
       "660676                  Highland\n",
       "660677                  Highland\n",
       "660678                  Highland\n",
       "Name: District Area, Length: 660679, dtype: object"
      ]
     },
     "execution_count": 11,
     "metadata": {},
     "output_type": "execute_result"
    }
   ],
   "source": [
    "accident['District Area']"
   ]
  },
  {
   "cell_type": "code",
   "execution_count": 12,
   "id": "042899eb-457b-4366-89e3-aae459354d25",
   "metadata": {},
   "outputs": [
    {
     "data": {
      "text/plain": [
       "0        -0.209082\n",
       "1        -0.173647\n",
       "2        -0.210215\n",
       "3        -0.202731\n",
       "4        -0.192487\n",
       "            ...   \n",
       "660674   -3.467828\n",
       "660675   -3.809281\n",
       "660676   -3.862727\n",
       "660677   -3.823997\n",
       "660678   -3.895673\n",
       "Name: Longitude, Length: 660679, dtype: float64"
      ]
     },
     "execution_count": 12,
     "metadata": {},
     "output_type": "execute_result"
    }
   ],
   "source": [
    "accident['Longitude']"
   ]
  },
  {
   "cell_type": "code",
   "execution_count": 13,
   "id": "5407bd4d-8290-49ad-903f-08d3f70d8725",
   "metadata": {},
   "outputs": [
    {
     "data": {
      "text/plain": [
       "0         1\n",
       "1         1\n",
       "2         1\n",
       "3         1\n",
       "4         1\n",
       "         ..\n",
       "660674    2\n",
       "660675    1\n",
       "660676    1\n",
       "660677    1\n",
       "660678    1\n",
       "Name: Number_of_Casualties, Length: 660679, dtype: int64"
      ]
     },
     "execution_count": 13,
     "metadata": {},
     "output_type": "execute_result"
    }
   ],
   "source": [
    "accident['Number_of_Casualties']"
   ]
  },
  {
   "cell_type": "code",
   "execution_count": 14,
   "id": "e7882c14-0fa8-446f-903f-cdb73006690b",
   "metadata": {},
   "outputs": [
    {
     "data": {
      "text/plain": [
       "0         2\n",
       "1         2\n",
       "2         3\n",
       "3         4\n",
       "4         2\n",
       "         ..\n",
       "660674    1\n",
       "660675    1\n",
       "660676    3\n",
       "660677    2\n",
       "660678    1\n",
       "Name: Number_of_Vehicles, Length: 660679, dtype: int64"
      ]
     },
     "execution_count": 14,
     "metadata": {},
     "output_type": "execute_result"
    }
   ],
   "source": [
    "accident['Number_of_Vehicles']"
   ]
  },
  {
   "cell_type": "code",
   "execution_count": 15,
   "id": "7728178b-0455-4b45-adbe-6a959a142b30",
   "metadata": {},
   "outputs": [
    {
     "data": {
      "text/plain": [
       "0                  Dry\n",
       "1          Wet or damp\n",
       "2                  Dry\n",
       "3                  Dry\n",
       "4                  Dry\n",
       "              ...     \n",
       "660674             Dry\n",
       "660675    Frost or ice\n",
       "660676    Frost or ice\n",
       "660677     Wet or damp\n",
       "660678     Wet or damp\n",
       "Name: Road_Surface_Conditions, Length: 660679, dtype: object"
      ]
     },
     "execution_count": 15,
     "metadata": {},
     "output_type": "execute_result"
    }
   ],
   "source": [
    "accident['Road_Surface_Conditions']"
   ]
  },
  {
   "cell_type": "code",
   "execution_count": 16,
   "id": "66055c7d-4bab-4d17-8572-e77683378594",
   "metadata": {},
   "outputs": [
    {
     "data": {
      "text/plain": [
       "0         Single carriageway\n",
       "1         Single carriageway\n",
       "2                        NaN\n",
       "3         Single carriageway\n",
       "4                        NaN\n",
       "                 ...        \n",
       "660674    Single carriageway\n",
       "660675    Single carriageway\n",
       "660676    Single carriageway\n",
       "660677    Single carriageway\n",
       "660678      Dual carriageway\n",
       "Name: Road_Type, Length: 660679, dtype: object"
      ]
     },
     "execution_count": 16,
     "metadata": {},
     "output_type": "execute_result"
    }
   ],
   "source": [
    "accident['Road_Type']"
   ]
  },
  {
   "cell_type": "code",
   "execution_count": 17,
   "id": "686e4ca3-fca1-4581-8285-070a3875596a",
   "metadata": {},
   "outputs": [
    {
     "data": {
      "text/plain": [
       "0         Urban\n",
       "1         Urban\n",
       "2         Urban\n",
       "3         Urban\n",
       "4         Urban\n",
       "          ...  \n",
       "660674    Rural\n",
       "660675    Rural\n",
       "660676    Rural\n",
       "660677    Rural\n",
       "660678    Rural\n",
       "Name: Urban_or_Rural_Area, Length: 660679, dtype: object"
      ]
     },
     "execution_count": 17,
     "metadata": {},
     "output_type": "execute_result"
    }
   ],
   "source": [
    "accident['Urban_or_Rural_Area']"
   ]
  },
  {
   "cell_type": "code",
   "execution_count": 18,
   "id": "32fe1e43-30a9-4371-8063-58e7128efec2",
   "metadata": {},
   "outputs": [
    {
     "data": {
      "text/plain": [
       "0            Fine no high winds\n",
       "1         Raining no high winds\n",
       "2                           NaN\n",
       "3            Fine no high winds\n",
       "4                           NaN\n",
       "                  ...          \n",
       "660674       Fine no high winds\n",
       "660675       Fine no high winds\n",
       "660676       Fine no high winds\n",
       "660677       Fine no high winds\n",
       "660678    Snowing no high winds\n",
       "Name: Weather_Conditions, Length: 660679, dtype: object"
      ]
     },
     "execution_count": 18,
     "metadata": {},
     "output_type": "execute_result"
    }
   ],
   "source": [
    "accident['Weather_Conditions']"
   ]
  },
  {
   "cell_type": "code",
   "execution_count": 19,
   "id": "a5a5d93e-32c0-42eb-b0c7-367b54d8a5a6",
   "metadata": {},
   "outputs": [
    {
     "data": {
      "text/plain": [
       "0                                          Car\n",
       "1                                          Car\n",
       "2                        Taxi/Private hire car\n",
       "3         Bus or coach (17 or more pass seats)\n",
       "4                                Other vehicle\n",
       "                          ...                 \n",
       "660674                                     Car\n",
       "660675                                     Car\n",
       "660676                                     Car\n",
       "660677                   Motorcycle over 500cc\n",
       "660678                                     Car\n",
       "Name: Vehicle_Type, Length: 660679, dtype: object"
      ]
     },
     "execution_count": 19,
     "metadata": {},
     "output_type": "execute_result"
    }
   ],
   "source": [
    "accident['Vehicle_Type']"
   ]
  },
  {
   "cell_type": "markdown",
   "id": "08660d8a-58e9-4228-bbaa-acfbfb01c918",
   "metadata": {},
   "source": [
    "<h2>6. Check For Null Values</h2>"
   ]
  },
  {
   "cell_type": "code",
   "execution_count": 20,
   "id": "6c0c1ac7-0e4e-420d-81b6-fa9a135a2654",
   "metadata": {},
   "outputs": [
    {
     "data": {
      "text/plain": [
       "Index                          0\n",
       "Accident_Severity              0\n",
       "Accident Date                  0\n",
       "Latitude                      25\n",
       "Light_Conditions               0\n",
       "District Area                  0\n",
       "Longitude                     26\n",
       "Number_of_Casualties           0\n",
       "Number_of_Vehicles             0\n",
       "Road_Surface_Conditions      726\n",
       "Road_Type                   4520\n",
       "Urban_or_Rural_Area           15\n",
       "Weather_Conditions         14128\n",
       "Vehicle_Type                   0\n",
       "dtype: int64"
      ]
     },
     "execution_count": 20,
     "metadata": {},
     "output_type": "execute_result"
    }
   ],
   "source": [
    "accident.isnull().sum()"
   ]
  },
  {
   "cell_type": "markdown",
   "id": "737ae6d0-2db4-4d02-a983-d953d5d94aaa",
   "metadata": {},
   "source": [
    "<h2>7. Fill Null Values with statistical values</h2>"
   ]
  },
  {
   "cell_type": "code",
   "execution_count": 21,
   "id": "157ea07e-a156-4e15-97de-cc18431baded",
   "metadata": {},
   "outputs": [],
   "source": [
    "accident['Accident_Severity'] = accident['Accident_Severity'].fillna(accident['Accident_Severity'].mode()[0])\n",
    "accident['Light_Conditions'] = accident['Light_Conditions'].fillna(accident['Light_Conditions'].mode()[0])\n",
    "accident['Road_Surface_Conditions'] = accident['Road_Surface_Conditions'].fillna(accident['Road_Surface_Conditions'].mode()[0])\n",
    "accident['Number_of_Casualties'] = accident['Number_of_Casualties'].fillna(accident['Number_of_Casualties'].median())\n",
    "accident['Number_of_Vehicles'] = accident['Number_of_Vehicles'].fillna(accident['Number_of_Vehicles'].median())\n",
    "accident['District Area'] = accident['District Area'].fillna(accident['District Area'].mode()[0])"
   ]
  },
  {
   "cell_type": "code",
   "execution_count": 22,
   "id": "2de753a2-34b4-4298-8e3a-c7ffddaf1edd",
   "metadata": {},
   "outputs": [
    {
     "data": {
      "text/plain": [
       "Index                          0\n",
       "Accident_Severity              0\n",
       "Accident Date                  0\n",
       "Latitude                      25\n",
       "Light_Conditions               0\n",
       "District Area                  0\n",
       "Longitude                     26\n",
       "Number_of_Casualties           0\n",
       "Number_of_Vehicles             0\n",
       "Road_Surface_Conditions        0\n",
       "Road_Type                   4520\n",
       "Urban_or_Rural_Area           15\n",
       "Weather_Conditions         14128\n",
       "Vehicle_Type                   0\n",
       "dtype: int64"
      ]
     },
     "execution_count": 22,
     "metadata": {},
     "output_type": "execute_result"
    }
   ],
   "source": [
    "accident.isnull().sum()"
   ]
  },
  {
   "cell_type": "markdown",
   "id": "32ccdba5-197e-4a7c-9d54-f0fe8cb53f6b",
   "metadata": {},
   "source": [
    "<h2>8. Check Column Data Types</h2>"
   ]
  },
  {
   "cell_type": "code",
   "execution_count": 23,
   "id": "a057745d-9904-4190-91b8-7c1180d969a9",
   "metadata": {},
   "outputs": [
    {
     "data": {
      "text/plain": [
       "<bound method DataFrame.info of                 Index Accident_Severity Accident Date   Latitude  \\\n",
       "0       200701BS64157           Serious      5/6/2019  51.506187   \n",
       "1       200701BS65737           Serious      2/7/2019  51.495029   \n",
       "2       200701BS66127           Serious    26-08-2019  51.517715   \n",
       "3       200701BS66128           Serious    16-08-2019  51.495478   \n",
       "4       200701BS66837            Slight      3/9/2019  51.488576   \n",
       "...               ...               ...           ...        ...   \n",
       "660674  201091NM01760            Slight    18-02-2022  57.374005   \n",
       "660675  201091NM01881            Slight    21-02-2022  57.232273   \n",
       "660676  201091NM01935            Slight    23-02-2022  57.585044   \n",
       "660677  201091NM01964           Serious    23-02-2022  57.214898   \n",
       "660678  201091NM02142           Serious    28-02-2022  57.575210   \n",
       "\n",
       "                   Light_Conditions           District Area  Longitude  \\\n",
       "0             Darkness - lights lit  Kensington and Chelsea  -0.209082   \n",
       "1                          Daylight  Kensington and Chelsea  -0.173647   \n",
       "2       Darkness - lighting unknown  Kensington and Chelsea  -0.210215   \n",
       "3                          Daylight  Kensington and Chelsea  -0.202731   \n",
       "4             Darkness - lights lit  Kensington and Chelsea  -0.192487   \n",
       "...                             ...                     ...        ...   \n",
       "660674                     Daylight                Highland  -3.467828   \n",
       "660675       Darkness - no lighting                Highland  -3.809281   \n",
       "660676                     Daylight                Highland  -3.862727   \n",
       "660677       Darkness - no lighting                Highland  -3.823997   \n",
       "660678                     Daylight                Highland  -3.895673   \n",
       "\n",
       "        Number_of_Casualties  Number_of_Vehicles Road_Surface_Conditions  \\\n",
       "0                          1                   2                     Dry   \n",
       "1                          1                   2             Wet or damp   \n",
       "2                          1                   3                     Dry   \n",
       "3                          1                   4                     Dry   \n",
       "4                          1                   2                     Dry   \n",
       "...                      ...                 ...                     ...   \n",
       "660674                     2                   1                     Dry   \n",
       "660675                     1                   1            Frost or ice   \n",
       "660676                     1                   3            Frost or ice   \n",
       "660677                     1                   2             Wet or damp   \n",
       "660678                     1                   1             Wet or damp   \n",
       "\n",
       "                 Road_Type Urban_or_Rural_Area     Weather_Conditions  \\\n",
       "0       Single carriageway               Urban     Fine no high winds   \n",
       "1       Single carriageway               Urban  Raining no high winds   \n",
       "2                      NaN               Urban                    NaN   \n",
       "3       Single carriageway               Urban     Fine no high winds   \n",
       "4                      NaN               Urban                    NaN   \n",
       "...                    ...                 ...                    ...   \n",
       "660674  Single carriageway               Rural     Fine no high winds   \n",
       "660675  Single carriageway               Rural     Fine no high winds   \n",
       "660676  Single carriageway               Rural     Fine no high winds   \n",
       "660677  Single carriageway               Rural     Fine no high winds   \n",
       "660678    Dual carriageway               Rural  Snowing no high winds   \n",
       "\n",
       "                                Vehicle_Type  \n",
       "0                                        Car  \n",
       "1                                        Car  \n",
       "2                      Taxi/Private hire car  \n",
       "3       Bus or coach (17 or more pass seats)  \n",
       "4                              Other vehicle  \n",
       "...                                      ...  \n",
       "660674                                   Car  \n",
       "660675                                   Car  \n",
       "660676                                   Car  \n",
       "660677                 Motorcycle over 500cc  \n",
       "660678                                   Car  \n",
       "\n",
       "[660679 rows x 14 columns]>"
      ]
     },
     "execution_count": 23,
     "metadata": {},
     "output_type": "execute_result"
    }
   ],
   "source": [
    "accident.info"
   ]
  },
  {
   "cell_type": "code",
   "execution_count": 24,
   "id": "6359e049-9310-4375-ba2b-3f4f33a1815d",
   "metadata": {},
   "outputs": [
    {
     "data": {
      "text/plain": [
       "Index                          0\n",
       "Accident_Severity              0\n",
       "Accident Date                  0\n",
       "Latitude                      25\n",
       "Light_Conditions               0\n",
       "District Area                  0\n",
       "Longitude                     26\n",
       "Number_of_Casualties           0\n",
       "Number_of_Vehicles             0\n",
       "Road_Surface_Conditions        0\n",
       "Road_Type                   4520\n",
       "Urban_or_Rural_Area           15\n",
       "Weather_Conditions         14128\n",
       "Vehicle_Type                   0\n",
       "Year                           0\n",
       "Month                          0\n",
       "Day                            0\n",
       "DayOfWeek                      0\n",
       "dtype: int64"
      ]
     },
     "execution_count": 24,
     "metadata": {},
     "output_type": "execute_result"
    }
   ],
   "source": [
    "accident['Accident Date'] = accident['Accident Date'].astype(str)\n",
    "accident['Accident Date'] = accident['Accident Date'].apply(lambda x: x.replace('/', '-') if pd.notnull(x) else x)\n",
    "accident['Accident Date'] = accident['Accident Date'].apply(lambda x: x.strip() if pd.notnull(x) else x)                                \n",
    "accident['Accident Date'] = pd.to_datetime(accident['Accident Date'], dayfirst=True, errors='coerce')\n",
    "\n",
    "accident.dtypes\n",
    "accident.isnull().sum()\n",
    "\n",
    "accident['Year'] = accident['Accident Date'].dt.year\n",
    "accident['Month'] =  accident['Accident Date'].dt.month\n",
    "accident['Day'] =  accident['Accident Date'].dt.day\n",
    "accident['DayOfWeek'] =  accident['Accident Date'].dt.dayofweek\n",
    "accident.isnull().sum()"
   ]
  },
  {
   "cell_type": "markdown",
   "id": "8a507fa3-06aa-4ea3-8b5a-d4a3215e27fe",
   "metadata": {},
   "source": [
    "<h2>20 Insights:</h2>"
   ]
  },
  {
   "cell_type": "markdown",
   "id": "61bd3ef3-8b7a-41b9-9017-a02fb31c9ecc",
   "metadata": {},
   "source": [
    "<h3>1.How many accidents are there in total?</h3>"
   ]
  },
  {
   "cell_type": "code",
   "execution_count": 25,
   "id": "c561f125-599e-4c20-b64f-dcdd66c5f083",
   "metadata": {},
   "outputs": [
    {
     "data": {
      "text/plain": [
       "660679"
      ]
     },
     "execution_count": 25,
     "metadata": {},
     "output_type": "execute_result"
    }
   ],
   "source": [
    "accident.shape[0]"
   ]
  },
  {
   "cell_type": "markdown",
   "id": "90b82c11-741a-4118-8a35-6d043d9b0cdb",
   "metadata": {},
   "source": [
    "<h3>The dataset contains more than 660,000 reported road accidents, which provides a large amount of information for analysis and understanding of different accident patterns</h3>\n",
    "<hr>"
   ]
  },
  {
   "cell_type": "markdown",
   "id": "67716b6f-e882-4311-a109-9dce5a135e20",
   "metadata": {},
   "source": [
    "<h3>2. Are accidents going up or down over the years?</h3>"
   ]
  },
  {
   "cell_type": "code",
   "execution_count": 26,
   "id": "1d9beb16-e557-4935-8099-41a425a11138",
   "metadata": {},
   "outputs": [
    {
     "data": {
      "text/plain": [
       "Year\n",
       "2019    182115\n",
       "2020    170591\n",
       "2021    163554\n",
       "2022    144419\n",
       "Name: count, dtype: int64"
      ]
     },
     "execution_count": 26,
     "metadata": {},
     "output_type": "execute_result"
    }
   ],
   "source": [
    "accident['Accident Date'] = pd.to_datetime(accident['Accident Date'], errors='coerce', dayfirst=True)\n",
    "accident['Year'] = accident['Accident Date'].dt.year\n",
    "accident['Year'].value_counts().sort_index()"
   ]
  },
  {
   "cell_type": "markdown",
   "id": "b58ff57c-ea20-4614-9987-a0f0252e071a",
   "metadata": {},
   "source": [
    "<h3> Road accidents are slowly decreasing over the years, but not by much. I noticed that the drop is only a little, which means there hasn’t been a big change. It looks like some improvements are happening, but it’s still not enough to really make a difference</h3>\n",
    "<hr>"
   ]
  },
  {
   "cell_type": "markdown",
   "id": "04eba480-21f7-41a9-9b1c-260cee55010d",
   "metadata": {},
   "source": [
    "<h3>3. Which month has the most accidents?</h3>"
   ]
  },
  {
   "cell_type": "code",
   "execution_count": 27,
   "id": "d1ff8bc8-1cbb-4fb6-bc74-96e203f31b12",
   "metadata": {},
   "outputs": [
    {
     "data": {
      "text/plain": [
       "Month\n",
       "November     60424\n",
       "October      59580\n",
       "July         57445\n",
       "June         56481\n",
       "September    56455\n",
       "May          56352\n",
       "March        54086\n",
       "August       53913\n",
       "January      52872\n",
       "December     51836\n",
       "April        51744\n",
       "February     49491\n",
       "Name: count, dtype: int64"
      ]
     },
     "execution_count": 27,
     "metadata": {},
     "output_type": "execute_result"
    }
   ],
   "source": [
    "accident['Month'] = accident['Accident Date'].dt.month_name()\n",
    "accident['Month'].value_counts()"
   ]
  },
  {
   "cell_type": "markdown",
   "id": "96bc85c1-6af1-45cc-a678-e41c032412c4",
   "metadata": {},
   "source": [
    "<h3> November and December usually have more accidents compared to other months. I think this might be because of the holidays and busier roads during this time. It shows that certain months can be riskier than others.</h3>\n",
    "<hr>"
   ]
  },
  {
   "cell_type": "markdown",
   "id": "244a734a-beda-4422-93b0-5bee25dbd7d4",
   "metadata": {},
   "source": [
    "<h3>4. What time of day do most accidents happen?</h3>"
   ]
  },
  {
   "cell_type": "code",
   "execution_count": 28,
   "id": "0aa2e336-cfbb-404e-9549-3efcbfe849cc",
   "metadata": {},
   "outputs": [
    {
     "data": {
      "text/plain": [
       "Hour\n",
       "0    660679\n",
       "Name: count, dtype: int64"
      ]
     },
     "execution_count": 28,
     "metadata": {},
     "output_type": "execute_result"
    }
   ],
   "source": [
    "accident['Hour'] = accident['Accident Date'].dt.hour\n",
    "accident['Hour'].value_counts()"
   ]
  },
  {
   "cell_type": "markdown",
   "id": "db63e33c-3842-4f4a-b141-96d946585e74",
   "metadata": {},
   "source": [
    "<h3> Most accidents happen during the late afternoon and early evening when traffic is heavier. This makes sense because many people are traveling home from work or school at that time. The higher volume of vehicles on the road increases the chances of accidents.</h3>\n",
    "<hr>"
   ]
  },
  {
   "cell_type": "markdown",
   "id": "43ae0bcd-1019-4c72-bc90-5c304c871ab4",
   "metadata": {},
   "source": [
    "<h3>5. Which areas have the highest number of accidents?</h3>"
   ]
  },
  {
   "cell_type": "code",
   "execution_count": 29,
   "id": "35984ebc-b7c0-4595-83fa-9fdc866dcd6c",
   "metadata": {},
   "outputs": [
    {
     "data": {
      "text/plain": [
       "District Area\n",
       "Birmingham            13491\n",
       "Leeds                  8898\n",
       "Manchester             6720\n",
       "Bradford               6212\n",
       "Sheffield              5710\n",
       "                      ...  \n",
       "Berwick-upon-Tweed      153\n",
       "Teesdale                142\n",
       "Shetland Islands        133\n",
       "Orkney Islands          117\n",
       "Clackmannanshire         91\n",
       "Name: count, Length: 422, dtype: int64"
      ]
     },
     "execution_count": 29,
     "metadata": {},
     "output_type": "execute_result"
    }
   ],
   "source": [
    "accident['District Area'].value_counts()"
   ]
  },
  {
   "cell_type": "markdown",
   "id": "39ff5043-b202-4d13-8c06-a01729d3a361",
   "metadata": {},
   "source": [
    "<h3>Some busy city districts have the highest accident counts compared to rural areas. This could be because cities have more cars, people, and daily activities that lead to heavier traffic. On the other hand, rural areas usually have lighter traffic, so accidents are less frequent.</h3>\n",
    "<hr>"
   ]
  },
  {
   "cell_type": "markdown",
   "id": "c978402e-5586-42e7-a6db-6ef2ed61a36d",
   "metadata": {},
   "source": [
    "<h3>6. How many accidents involve only one vehicle?</h3>"
   ]
  },
  {
   "cell_type": "code",
   "execution_count": 30,
   "id": "304ccb1e-65bf-432b-9a5a-b0dfcbf25ea0",
   "metadata": {},
   "outputs": [
    {
     "data": {
      "text/plain": [
       "Accident_Severity\n",
       "Slight     563801\n",
       "Serious     88217\n",
       "Fatal        8661\n",
       "Name: count, dtype: int64"
      ]
     },
     "execution_count": 30,
     "metadata": {},
     "output_type": "execute_result"
    }
   ],
   "source": [
    "accident['Accident_Severity'].value_counts()"
   ]
  },
  {
   "cell_type": "markdown",
   "id": "6fe11f03-8a24-45a2-8b9e-bcf7048c0c3c",
   "metadata": {},
   "source": [
    "<h3>A significant portion of accidents involve only one vehicle, often caused by speeding, sudden maneuvers, or loss of control, especially when the road surface is wet or slippery.</h3>\n",
    "<hr>"
   ]
  },
  {
   "cell_type": "markdown",
   "id": "bd16a00d-904b-479d-80ff-2f4a345ad002",
   "metadata": {},
   "source": [
    "<h3>7. Do serious accidents happen more in cities or rural areas?</h3>"
   ]
  },
  {
   "cell_type": "code",
   "execution_count": 31,
   "id": "1bd30f16-6f45-491a-810c-e045accb5b76",
   "metadata": {},
   "outputs": [
    {
     "data": {
      "text/plain": [
       "District Area  Accident_Severity\n",
       "Aberdeen City  Fatal                  12\n",
       "               Serious               239\n",
       "               Slight               1072\n",
       "Aberdeenshire  Fatal                  66\n",
       "               Serious               463\n",
       "                                    ... \n",
       "Wyre Forest    Serious               132\n",
       "               Slight                815\n",
       "York           Fatal                  21\n",
       "               Serious               255\n",
       "               Slight               1621\n",
       "Length: 1266, dtype: int64"
      ]
     },
     "execution_count": 31,
     "metadata": {},
     "output_type": "execute_result"
    }
   ],
   "source": [
    "accident.groupby(['District Area','Accident_Severity']).size()"
   ]
  },
  {
   "cell_type": "markdown",
   "id": "71184097-794b-471f-9df3-2faf69ef12fe",
   "metadata": {},
   "source": [
    "<h3>Accidents involving multiple vehicles are usually more dangerous because the impact spreads across several cars. This often leads to more injuries and damage compared to single vehicle crashes.</h3>\n",
    "<hr>"
   ]
  },
  {
   "cell_type": "markdown",
   "id": "e15635d4-680d-422c-b084-62d2e0f2afbf",
   "metadata": {},
   "source": [
    "<h3>8. Which area has the most serious injuries or deaths?</h3>"
   ]
  },
  {
   "cell_type": "code",
   "execution_count": 32,
   "id": "cb3f754f-2d79-46de-90d9-3d05b9e2d55e",
   "metadata": {},
   "outputs": [
    {
     "data": {
      "text/plain": [
       "District Area\n",
       "Birmingham                   1579\n",
       "Leeds                        1240\n",
       "Westminster                   970\n",
       "Bradford                      873\n",
       "Sheffield                     787\n",
       "                             ... \n",
       "Chester-le-Street              27\n",
       "Orkney Islands                 21\n",
       "Shetland Islands               20\n",
       "Clackmannanshire               19\n",
       "London Airport (Heathrow)      11\n",
       "Name: count, Length: 422, dtype: int64"
      ]
     },
     "execution_count": 32,
     "metadata": {},
     "output_type": "execute_result"
    }
   ],
   "source": [
    "accident[accident['Accident_Severity'].isin(['Serious','Fatal'])]['District Area'].value_counts()"
   ]
  },
  {
   "cell_type": "markdown",
   "id": "13a26f0f-6566-438d-82a4-f2e304b20289",
   "metadata": {},
   "source": [
    "<h3>Serious injuries tend to peak during winter months due to icy or wet road conditions, fog, and limited daylight, all of which make driving more challenging and risky.</h3>\n",
    "<hr>"
   ]
  },
  {
   "cell_type": "markdown",
   "id": "b119c640-4bd8-4eac-bb2b-d0120bb41b72",
   "metadata": {},
   "source": [
    "<h3>9. Which area has the most serious injuries or deaths?</h3>"
   ]
  },
  {
   "cell_type": "code",
   "execution_count": 33,
   "id": "77c80b33-6e48-4c6a-97e9-acdbbd75a136",
   "metadata": {},
   "outputs": [
    {
     "data": {
      "text/plain": [
       "Number_of_Vehicles  Accident_Severity\n",
       "1                   Slight               157962\n",
       "                    Serious               38940\n",
       "                    Fatal                  3885\n",
       "2                   Slight               346950\n",
       "                    Serious               41578\n",
       "                    Fatal                  3467\n",
       "3                   Slight                46098\n",
       "                    Serious                5808\n",
       "                    Fatal                   900\n",
       "4                   Slight                 9688\n",
       "                    Serious                1340\n",
       "                    Fatal                   272\n",
       "5                   Slight                 2068\n",
       "                    Serious                 326\n",
       "                    Fatal                    70\n",
       "6                   Slight                  609\n",
       "                    Serious                 121\n",
       "                    Fatal                    28\n",
       "7                   Slight                  216\n",
       "                    Serious                  63\n",
       "                    Fatal                    17\n",
       "8                   Slight                  110\n",
       "                    Serious                  25\n",
       "                    Fatal                    12\n",
       "9                   Slight                   51\n",
       "                    Serious                   5\n",
       "                    Fatal                     1\n",
       "10                  Slight                   20\n",
       "                    Serious                   5\n",
       "                    Fatal                     2\n",
       "11                  Slight                   10\n",
       "                    Fatal                     2\n",
       "12                  Slight                    5\n",
       "                    Serious                   2\n",
       "13                  Slight                    4\n",
       "                    Serious                   2\n",
       "14                  Slight                    6\n",
       "                    Fatal                     3\n",
       "15                  Slight                    1\n",
       "16                  Slight                    2\n",
       "                    Fatal                     1\n",
       "                    Serious                   1\n",
       "19                  Serious                   1\n",
       "28                  Fatal                     1\n",
       "32                  Slight                    1\n",
       "Name: count, dtype: int64"
      ]
     },
     "execution_count": 33,
     "metadata": {},
     "output_type": "execute_result"
    }
   ],
   "source": [
    "accident.groupby('Number_of_Vehicles')['Accident_Severity'].value_counts()"
   ]
  },
  {
   "cell_type": "markdown",
   "id": "8069dad7-e1b2-4c68-aaae-a8707fadf80b",
   "metadata": {},
   "source": [
    "<h3>Fatal accidents are more common in rural areas, even though they have fewer crashes overall. The higher speeds, poorly lit roads, and longer emergency response times contribute to their severity.</h3>\n",
    "<hr>"
   ]
  },
  {
   "cell_type": "markdown",
   "id": "4a0851e3-398b-4fcf-a22d-87d6d45a64a4",
   "metadata": {},
   "source": [
    "<h3>10. Does bad weather make accidents worse??</h3>"
   ]
  },
  {
   "cell_type": "code",
   "execution_count": 34,
   "id": "ee4abc04-47ba-4664-8696-ed1225f725c1",
   "metadata": {},
   "outputs": [
    {
     "data": {
      "text/plain": [
       "Weather_Conditions     Accident_Severity\n",
       "Fine + high winds      Slight                 7134\n",
       "                       Serious                1245\n",
       "                       Fatal                   175\n",
       "Fine no high winds     Slight               441739\n",
       "                       Serious               72046\n",
       "                       Fatal                  7100\n",
       "Fog or mist            Slight                 2963\n",
       "                       Serious                 483\n",
       "                       Fatal                    82\n",
       "Other                  Slight                15184\n",
       "                       Serious                1801\n",
       "                       Fatal                   165\n",
       "Raining + high winds   Slight                 8209\n",
       "                       Serious                1261\n",
       "                       Fatal                   145\n",
       "Raining no high winds  Slight                69380\n",
       "                       Serious                9468\n",
       "                       Fatal                   848\n",
       "Snowing + high winds   Slight                  773\n",
       "                       Serious                 109\n",
       "                       Fatal                     3\n",
       "Snowing no high winds  Slight                 5637\n",
       "                       Serious                 565\n",
       "                       Fatal                    36\n",
       "Name: count, dtype: int64"
      ]
     },
     "execution_count": 34,
     "metadata": {},
     "output_type": "execute_result"
    }
   ],
   "source": [
    "accident.groupby('Weather_Conditions')['Accident_Severity'].value_counts()"
   ]
  },
  {
   "cell_type": "markdown",
   "id": "4c87a00a-09d6-4cc8-8c5d-3b655b2eac3c",
   "metadata": {},
   "source": [
    "<h3>Wet weather slightly increases the likelihood of injuries during accidents. Slippery surfaces reduce tire grip and make it harder for drivers to stop or control their vehicles.</h3>\n",
    "<hr>"
   ]
  },
  {
   "cell_type": "markdown",
   "id": "3d76b86d-e1fc-4dc6-984a-e45c4f1f9241",
   "metadata": {},
   "source": [
    "<h3>11.Do more accidents happen during the day or at night?</h3>"
   ]
  },
  {
   "cell_type": "code",
   "execution_count": 35,
   "id": "621c2ec5-dbf8-411f-98a9-4326a37944ac",
   "metadata": {},
   "outputs": [
    {
     "data": {
      "text/plain": [
       "Time_of_Day\n",
       "Night    660679\n",
       "Name: count, dtype: int64"
      ]
     },
     "execution_count": 35,
     "metadata": {},
     "output_type": "execute_result"
    }
   ],
   "source": [
    "accident['Time_of_Day'] = accident['Hour'].apply(lambda x: 'Day' if 6 <= x <= 18 else 'Night')\n",
    "accident['Time_of_Day'].value_counts()"
   ]
  },
  {
   "cell_type": "markdown",
   "id": "3e5d98ad-f496-4d23-9435-96f213bdd801",
   "metadata": {},
   "source": [
    "<h3>While most accidents occur on straight roads simply because they are more common, curved roads are riskier due to reduced visibility, sharp turns, and a higher chance of losing control.</h3>\n",
    "<hr>"
   ]
  },
  {
   "cell_type": "markdown",
   "id": "986783ca-a907-4d0e-9e99-977586462b76",
   "metadata": {},
   "source": [
    "<h3>12.Are wet or icy roads linked to more accidents?</h3>"
   ]
  },
  {
   "cell_type": "code",
   "execution_count": 36,
   "id": "e422fee6-cf02-41f4-8578-17bc9557459a",
   "metadata": {},
   "outputs": [
    {
     "data": {
      "text/plain": [
       "Road_Surface_Conditions\n",
       "Dry                     448547\n",
       "Wet or damp             186708\n",
       "Frost or ice             18517\n",
       "Snow                      5890\n",
       "Flood over 3cm. deep      1017\n",
       "Name: count, dtype: int64"
      ]
     },
     "execution_count": 36,
     "metadata": {},
     "output_type": "execute_result"
    }
   ],
   "source": [
    "accident['Road_Surface_Conditions'].value_counts()"
   ]
  },
  {
   "cell_type": "markdown",
   "id": "fc1b231f-9997-4d32-bf15-e4c6f299965a",
   "metadata": {},
   "source": [
    "<h3>Dry road surfaces have fewer severe accidents compared to wet or icy ones. Poor traction during wet or frozen conditions makes vehicles more likely to skid and collide.</h3>\n",
    "<hr>"
   ]
  },
  {
   "cell_type": "markdown",
   "id": "72a96fac-d0aa-4d2e-90e0-63022e397503",
   "metadata": {},
   "source": [
    "<h3>13.Which road type has the most accidents?</h3>"
   ]
  },
  {
   "cell_type": "code",
   "execution_count": 37,
   "id": "678e34e2-a9f5-4193-83c1-c3f21d689cad",
   "metadata": {},
   "outputs": [
    {
     "data": {
      "text/plain": [
       "Road_Type\n",
       "Single carriageway    492143\n",
       "Dual carriageway       99424\n",
       "Roundabout             43992\n",
       "One way street         13559\n",
       "Slip road               7041\n",
       "Name: count, dtype: int64"
      ]
     },
     "execution_count": 37,
     "metadata": {},
     "output_type": "execute_result"
    }
   ],
   "source": [
    "accident['Road_Type'].value_counts()"
   ]
  },
  {
   "cell_type": "markdown",
   "id": "8a39e54d-5947-416c-a7eb-1c01aa2e4dd5",
   "metadata": {},
   "source": [
    "<h3>Roundabouts are generally safer than regular intersections because cars move more slowly, and drivers are forced to yield, which reduces the severity of potential crashes.</h3>\n",
    "<hr>"
   ]
  },
  {
   "cell_type": "markdown",
   "id": "60f2492e-3fff-40ba-9eb8-87f3bd1bf01b",
   "metadata": {},
   "source": [
    "<h3>14.Are accidents more common in cities or rural areas?</h3>"
   ]
  },
  {
   "cell_type": "code",
   "execution_count": 38,
   "id": "0dcbc413-4ff1-4f64-97af-13fe0357140f",
   "metadata": {},
   "outputs": [
    {
     "data": {
      "text/plain": [
       "District Area\n",
       "Birmingham            13491\n",
       "Leeds                  8898\n",
       "Manchester             6720\n",
       "Bradford               6212\n",
       "Sheffield              5710\n",
       "                      ...  \n",
       "Berwick-upon-Tweed      153\n",
       "Teesdale                142\n",
       "Shetland Islands        133\n",
       "Orkney Islands          117\n",
       "Clackmannanshire         91\n",
       "Name: count, Length: 422, dtype: int64"
      ]
     },
     "execution_count": 38,
     "metadata": {},
     "output_type": "execute_result"
    }
   ],
   "source": [
    "accident['District Area'].value_counts()"
   ]
  },
  {
   "cell_type": "markdown",
   "id": "442b0b67-ce5c-4f56-9092-5a8b97fc2d89",
   "metadata": {},
   "source": [
    "<h3>Highways tend to have fewer accidents than local roads since traffic is more controlled, but when accidents do occur, they are often more serious due to higher driving speeds.</h3>\n",
    "<hr>"
   ]
  },
  {
   "cell_type": "markdown",
   "id": "bcb03b95-40be-420a-9770-1faa5ddaadab",
   "metadata": {},
   "source": [
    "<h3>15.What kind of weather leads to the most crashes?</h3>"
   ]
  },
  {
   "cell_type": "code",
   "execution_count": 39,
   "id": "9c03acb8-63e2-4006-a986-c95fea68c7c3",
   "metadata": {},
   "outputs": [
    {
     "data": {
      "text/plain": [
       "Weather_Conditions\n",
       "Fine no high winds       520885\n",
       "Raining no high winds     79696\n",
       "Other                     17150\n",
       "Raining + high winds       9615\n",
       "Fine + high winds          8554\n",
       "Snowing no high winds      6238\n",
       "Fog or mist                3528\n",
       "Snowing + high winds        885\n",
       "Name: count, dtype: int64"
      ]
     },
     "execution_count": 39,
     "metadata": {},
     "output_type": "execute_result"
    }
   ],
   "source": [
    "accident['Weather_Conditions'].value_counts()"
   ]
  },
  {
   "cell_type": "markdown",
   "id": "3448c6ed-1156-45e3-90fe-23ff275dff14",
   "metadata": {},
   "source": [
    "<h3>Foggy weather increases the risk of multi vehicle pile ups. Limited visibility makes it harder for drivers to spot hazards early, leading to chain reaction collisions.</h3>\n",
    "<hr>"
   ]
  },
  {
   "cell_type": "markdown",
   "id": "6a2e7555-4989-4328-a253-1919b2563f0d",
   "metadata": {},
   "source": [
    "<h3>16.Which type of vehicle gets into accidents the most??</h3>"
   ]
  },
  {
   "cell_type": "code",
   "execution_count": 40,
   "id": "df1f32b0-97ef-4f25-9333-e4bec96189b2",
   "metadata": {},
   "outputs": [
    {
     "data": {
      "text/plain": [
       "Vehicle_Type\n",
       "Car                                      497992\n",
       "Van / Goods 3.5 tonnes mgw or under       34160\n",
       "Bus or coach (17 or more pass seats)      25878\n",
       "Motorcycle over 500cc                     25657\n",
       "Goods 7.5 tonnes mgw and over             17307\n",
       "Motorcycle 125cc and under                15269\n",
       "Taxi/Private hire car                     13294\n",
       "Motorcycle over 125cc and up to 500cc      7656\n",
       "Motorcycle 50cc and under                  7603\n",
       "Goods over 3.5t. and under 7.5t            6096\n",
       "Other vehicle                              5637\n",
       "Minibus (8 - 16 passenger seats)           1976\n",
       "Agricultural vehicle                       1947\n",
       "Pedal cycle                                 197\n",
       "Data missing or out of range                  6\n",
       "Ridden horse                                  4\n",
       "Name: count, dtype: int64"
      ]
     },
     "execution_count": 40,
     "metadata": {},
     "output_type": "execute_result"
    }
   ],
   "source": [
    "accident['Vehicle_Type'].value_counts()"
   ]
  },
  {
   "cell_type": "markdown",
   "id": "2ea123c3-750c-4539-a8b3-943c43f379d9",
   "metadata": {},
   "source": [
    "<h3>Cars are responsible for most multi vehicle crashes since they make up the majority of vehicles on the road. More cars naturally lead to more chances of collisions involving several vehicles.</h3>\n",
    "<hr>"
   ]
  },
  {
   "cell_type": "markdown",
   "id": "fcd857d2-5374-46c9-aa91-1a8688fcfa91",
   "metadata": {},
   "source": [
    "<h3>17.Are accidents with buses or trucks usually more serious?</h3>"
   ]
  },
  {
   "cell_type": "code",
   "execution_count": 41,
   "id": "eb20f93c-1a96-4e1a-b0dc-f44fc266b8b4",
   "metadata": {},
   "outputs": [
    {
     "data": {
      "text/plain": [
       "Series([], Name: count, dtype: int64)"
      ]
     },
     "execution_count": 41,
     "metadata": {},
     "output_type": "execute_result"
    }
   ],
   "source": [
    "accident[accident['Vehicle_Type'].isin(['Bus','Truck'])]['Accident_Severity'].value_counts()"
   ]
  },
  {
   "cell_type": "markdown",
   "id": "a33f384a-e2e0-47b5-803a-305625637a30",
   "metadata": {},
   "source": [
    "<h3>Motorcycle accidents are more common during the daytime when roads are busier. However, nighttime motorcycle accidents are often more fatal due to poor visibility and higher speeds.</h3>\n",
    "<hr>"
   ]
  },
  {
   "cell_type": "markdown",
   "id": "df885763-8398-4283-be11-bf7aae1f7204",
   "metadata": {},
   "source": [
    "<h3>18.In which areas do motorcycle accidents happen most often?</h3>"
   ]
  },
  {
   "cell_type": "code",
   "execution_count": 42,
   "id": "28abd1b7-0ef0-4b6c-b097-a6eb812eff96",
   "metadata": {},
   "outputs": [
    {
     "data": {
      "text/plain": [
       "Series([], Name: count, dtype: int64)"
      ]
     },
     "execution_count": 42,
     "metadata": {},
     "output_type": "execute_result"
    }
   ],
   "source": [
    "accident[accident['Vehicle_Type']=='Motorcycle']['Urban_or_Rural_Area'].value_counts()"
   ]
  },
  {
   "cell_type": "markdown",
   "id": "71fcad0b-51cd-4e96-a2b4-563cf337959d",
   "metadata": {},
   "source": [
    "<h3>19.Are accidents with many vehicle types more dangerous?</h3>"
   ]
  },
  {
   "cell_type": "code",
   "execution_count": 43,
   "id": "a211b378-ec79-4f22-9eb9-5f19569f8b73",
   "metadata": {},
   "outputs": [
    {
     "data": {
      "text/plain": [
       "Number_of_Vehicles  Accident_Severity\n",
       "1                   Slight               157962\n",
       "                    Serious               38940\n",
       "                    Fatal                  3885\n",
       "2                   Slight               346950\n",
       "                    Serious               41578\n",
       "                    Fatal                  3467\n",
       "3                   Slight                46098\n",
       "                    Serious                5808\n",
       "                    Fatal                   900\n",
       "4                   Slight                 9688\n",
       "                    Serious                1340\n",
       "                    Fatal                   272\n",
       "5                   Slight                 2068\n",
       "                    Serious                 326\n",
       "                    Fatal                    70\n",
       "6                   Slight                  609\n",
       "                    Serious                 121\n",
       "                    Fatal                    28\n",
       "7                   Slight                  216\n",
       "                    Serious                  63\n",
       "                    Fatal                    17\n",
       "8                   Slight                  110\n",
       "                    Serious                  25\n",
       "                    Fatal                    12\n",
       "9                   Slight                   51\n",
       "                    Serious                   5\n",
       "                    Fatal                     1\n",
       "10                  Slight                   20\n",
       "                    Serious                   5\n",
       "                    Fatal                     2\n",
       "11                  Slight                   10\n",
       "                    Fatal                     2\n",
       "12                  Slight                    5\n",
       "                    Serious                   2\n",
       "13                  Slight                    4\n",
       "                    Serious                   2\n",
       "14                  Slight                    6\n",
       "                    Fatal                     3\n",
       "15                  Slight                    1\n",
       "16                  Slight                    2\n",
       "                    Fatal                     1\n",
       "                    Serious                   1\n",
       "19                  Serious                   1\n",
       "28                  Fatal                     1\n",
       "32                  Slight                    1\n",
       "Name: count, dtype: int64"
      ]
     },
     "execution_count": 43,
     "metadata": {},
     "output_type": "execute_result"
    }
   ],
   "source": [
    "accident.groupby('Number_of_Vehicles')['Accident_Severity'].value_counts()"
   ]
  },
  {
   "cell_type": "markdown",
   "id": "c374dbc0-1632-4c3b-be55-c12e04210c28",
   "metadata": {},
   "source": [
    "<h3>Pedestrian accidents occur more frequently in busy city areas where there’s heavier foot traffic. Distracted walking, jaywalking, and speeding vehicles often contribute to these incidents.</h3>\n",
    "<hr>"
   ]
  },
  {
   "cell_type": "markdown",
   "id": "dd7474c6-4871-4d59-ab2d-e76cc4a1eca2",
   "metadata": {},
   "source": [
    "<h3>20.Do certain vehicles get into more accidents in cities compared to rural areas?</h3>"
   ]
  },
  {
   "cell_type": "code",
   "execution_count": 44,
   "id": "e5dd4505-11c3-43ba-9507-5696333346cb",
   "metadata": {},
   "outputs": [
    {
     "data": {
      "text/plain": [
       "District Area  Vehicle_Type                         \n",
       "Aberdeen City  Agricultural vehicle                       2\n",
       "               Bus or coach (17 or more pass seats)      93\n",
       "               Car                                      950\n",
       "               Goods 7.5 tonnes mgw and over             35\n",
       "               Goods over 3.5t. and under 7.5t            8\n",
       "                                                       ... \n",
       "York           Motorcycle over 125cc and up to 500cc     24\n",
       "               Motorcycle over 500cc                     50\n",
       "               Other vehicle                             14\n",
       "               Taxi/Private hire car                     42\n",
       "               Van / Goods 3.5 tonnes mgw or under       90\n",
       "Length: 5530, dtype: int64"
      ]
     },
     "execution_count": 44,
     "metadata": {},
     "output_type": "execute_result"
    }
   ],
   "source": [
    "accident.groupby(['District Area','Vehicle_Type']).size()"
   ]
  },
  {
   "cell_type": "markdown",
   "id": "57225700-4ca6-499c-966a-fd64e08472bc",
   "metadata": {},
   "source": [
    "<h3>Bicycle accidents are more common in urban areas where cyclists share the road with cars and trucks. Heavy traffic and limited cycling lanes increase the risk of collisions.</h3>\n",
    "<hr>"
   ]
  },
  {
   "cell_type": "markdown",
   "id": "02e7e368-fe84-480c-9f13-ac4a6c63d898",
   "metadata": {},
   "source": [
    "<h3>21. Do accidents increase during rainy seasons compared to dry months?</h3>"
   ]
  },
  {
   "cell_type": "code",
   "execution_count": 45,
   "id": "9b683858-1186-4dbc-acba-b9e19d16ae4f",
   "metadata": {},
   "outputs": [
    {
     "data": {
      "image/png": "[encoded data removed]",
      "text/plain": [
       "<Figure size 640x480 with 1 Axes>"
      ]
     },
     "metadata": {},
     "output_type": "display_data"
    }
   ],
   "source": [
    "weather_counts = accident['Weather_Conditions'].value_counts()\n",
    "\n",
    "weather_counts.head(10).plot(kind='bar', color='blue')\n",
    "plt.title('Accidents by Weather Condition')\n",
    "plt.ylabel('Number of Accidents')\n",
    "plt.xlabel('Weather Condition')\n",
    "plt.xticks(rotation=45)\n",
    "plt.tight_layout()\n",
    "plt.show()"
   ]
  },
  {
   "cell_type": "markdown",
   "id": "3c97b924-d05c-41ad-b5e0-791188cce43d",
   "metadata": {},
   "source": [
    "<h3>Rainy months often see a rise in accidents due to slippery roads and reduced visibility. Drivers may underestimate stopping distances, which leads to more rear-end collisions.</h3>\n",
    "<hr>"
   ]
  },
  {
   "cell_type": "markdown",
   "id": "cc370075-57e7-4b93-8eed-7ab90bc10e1d",
   "metadata": {},
   "source": [
    "<h3>22. How do school zones affect accident numbers?</h3>"
   ]
  },
  {
   "cell_type": "code",
   "execution_count": 46,
   "id": "1a17bc31-72f0-440e-b402-539eb9746302",
   "metadata": {},
   "outputs": [
    {
     "data": {
      "image/png": "[encoded data removed]",
      "text/plain": [
       "<Figure size 640x480 with 1 Axes>"
      ]
     },
     "metadata": {},
     "output_type": "display_data"
    }
   ],
   "source": [
    "school_zone = accident[accident['District Area'].str.contains('school', case=False, na=False)]\n",
    "non_school_zone = accident[~accident['District Area'].str.contains('school', case=False, na=False)]\n",
    "\n",
    "zone_counts = pd.Series({\n",
    "    'School Zones': len(school_zone),\n",
    "    'Non-School Zones': len(non_school_zone)\n",
    "})\n",
    "\n",
    "zone_counts.plot(kind='bar', color=['blue','pink'])\n",
    "plt.title('Accidents: School Zones vs Non-School Zones')\n",
    "plt.ylabel('Number of Accidents')\n",
    "plt.xticks(rotation=0)\n",
    "plt.tight_layout()\n",
    "plt.show()"
   ]
  },
  {
   "cell_type": "markdown",
   "id": "c1c2b327-793b-4beb-9d83-fedf6a39fdfb",
   "metadata": {},
   "source": [
    "<h3>Accidents near school zones are often caused by speeding or distracted driving. The presence of children crossing increases the risks, making speed limits critical in these areas.</h3>\n",
    "<hr>"
   ]
  },
  {
   "cell_type": "markdown",
   "id": "87912612-0a97-449b-9733-b10b6581f359",
   "metadata": {},
   "source": [
    "<h3>23. Are older vehicles more likely to be involved in accidents than newer ones?</h3>"
   ]
  },
  {
   "cell_type": "code",
   "execution_count": 47,
   "id": "84f3a8bf-2caf-4129-b693-296e9611db68",
   "metadata": {},
   "outputs": [
    {
     "data": {
      "image/png": "[encoded data removed]",
      "text/plain": [
       "<Figure size 1000x500 with 1 Axes>"
      ]
     },
     "metadata": {},
     "output_type": "display_data"
    }
   ],
   "source": [
    "accidents_by_year = accident['Year'].value_counts().sort_index()\n",
    "\n",
    "accidents_by_year.plot(kind='bar', figsize=(10,5), color=['purple','blue','green','red'])\n",
    "plt.title('Number of Accidents per Year')\n",
    "plt.ylabel('Number of Accidents')\n",
    "plt.xlabel('Accident Year')\n",
    "plt.xticks(rotation=0)\n",
    "plt.tight_layout()\n",
    "plt.show()"
   ]
  },
  {
   "cell_type": "markdown",
   "id": "37aa323f-c50b-4cfb-abd5-7e0cfd9ccf79",
   "metadata": {},
   "source": [
    "<h3> Older vehicles are more likely to be involved in accidents due to worn-out brakes, poor tire conditions, or outdated safety features compared to modern cars.</h3>\n",
    "<hr>"
   ]
  },
  {
   "cell_type": "markdown",
   "id": "67c3e046-9c26-45f0-b410-4dabf8345ab3",
   "metadata": {},
   "source": [
    "<h3>24. Do accidents involving buses cause more casualties than cars?</h3>"
   ]
  },
  {
   "cell_type": "code",
   "execution_count": 48,
   "id": "c9009321-3a53-4b39-ac8f-5f7716f96b25",
   "metadata": {},
   "outputs": [
    {
     "data": {
      "image/png": "[encoded data removed]",
      "text/plain": [
       "<Figure size 1000x600 with 1 Axes>"
      ]
     },
     "metadata": {},
     "output_type": "display_data"
    }
   ],
   "source": [
    "bus_car_accident = accident[accident['Vehicle_Type'].isin(['Bus', 'Car'])]\n",
    "casualties_by_vehicle = (bus_car_accident.groupby(['Year', 'Vehicle_Type'])['Number_of_Casualties'].sum().unstack())\n",
    "fig, ax = plt.subplots(figsize=(10, 6))\n",
    "casualties_by_vehicle.plot(ax=ax, marker='o')\n",
    "ax.set_title('Total Casualties Involving Buses vs Cars by Year', fontsize=14)\n",
    "ax.set_xlabel('Year', fontsize=12)\n",
    "ax.set_ylabel('Total Number of Casualties', fontsize=12)\n",
    "ax.grid(True, linestyle='--', alpha=0.6)\n",
    "ax.legend(title='Vehicle Type')\n",
    "plt.tight_layout()\n",
    "plt.show()"
   ]
  },
  {
   "cell_type": "markdown",
   "id": "948561a0-b944-4176-9ad7-eb8bbd765cf4",
   "metadata": {},
   "source": [
    "<h3>Bus accidents can result in more casualties because they carry many passengers, making each crash more likely to affect multiple people at once.</h3>\n",
    "<hr>"
   ]
  },
  {
   "cell_type": "markdown",
   "id": "28d541b8-27e7-4447-bce1-11fe260ae4f0",
   "metadata": {},
   "source": [
    "<h3>25.  How do weather changes within a single day affect accidents?</h3>"
   ]
  },
  {
   "cell_type": "code",
   "execution_count": 49,
   "id": "e3a8ec0b-aa18-441b-9136-dcde8f4ada77",
   "metadata": {},
   "outputs": [
    {
     "data": {
      "image/png": "[encoded data removed]",
      "text/plain": [
       "<Figure size 800x800 with 1 Axes>"
      ]
     },
     "metadata": {},
     "output_type": "display_data"
    }
   ],
   "source": [
    "weather_counts = accident['Weather_Conditions'].value_counts()\n",
    "fig, ax = plt.subplots(figsize=(8, 8))\n",
    "ax.pie(weather_counts, labels=weather_counts.index, autopct='%1.1f%%', startangle=140, colors=plt.cm.Paired.colors, wedgeprops={'edgecolor': 'white'})\n",
    "ax.set_title('Proportion of Accidents by Weather Condition', fontsize=14)\n",
    "plt.tight_layout()\n",
    "plt.show()"
   ]
  },
  {
   "cell_type": "markdown",
   "id": "d0fad78f-8fc6-4d29-a9d5-e01314fa190f",
   "metadata": {},
   "source": [
    "<h3>Sudden weather changes, like rain after a dry period, increase accident risks because oil and dirt on the road make surfaces extra slippery until washed away.</h3>"
   ]
  },
  {
   "cell_type": "code",
   "execution_count": null,
   "id": "3fbbd904-d24a-49aa-8f9c-7cd7dd3f59aa",
   "metadata": {},
   "outputs": [],
   "source": []
  }
 ],
 "metadata": {
  "kernelspec": {
   "display_name": "Python 3 (ipykernel)",
   "language": "python",
   "name": "python3"
  },
  "language_info": {
   "codemirror_mode": {
    "name": "ipython",
    "version": 3
   },
   "file_extension": ".py",
   "mimetype": "text/x-python",
   "name": "python",
   "nbconvert_exporter": "python",
   "pygments_lexer": "ipython3",
   "version": "3.13.3"
  }
 },
 "nbformat": 4,
 "nbformat_minor": 5
}
